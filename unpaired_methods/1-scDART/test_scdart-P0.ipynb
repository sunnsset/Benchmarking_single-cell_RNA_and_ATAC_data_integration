{
 "cells": [
  {
   "cell_type": "code",
   "execution_count": 1,
   "id": "9b21c4c1-720d-466f-8aac-278074ed18d2",
   "metadata": {},
   "outputs": [],
   "source": [
    "# In[]\n",
    "import sys, os\n",
    "sys.path.append('../')\n",
    "sys.path.append('../src/')\n",
    "import numpy as np\n",
    "import pandas as pd\n",
    "from scipy import sparse\n",
    "import networkx as nx\n",
    "\n",
    "import torch\n",
    "import torch.nn.functional as F\n",
    "import torch.nn as nn\n",
    "import torch.optim as optim\n",
    "import matplotlib.pyplot as plt\n",
    "from torch.utils.data import Dataset, DataLoader\n",
    "import time\n",
    "\n",
    "from sklearn.decomposition import PCA\n",
    "from sklearn.manifold import MDS\n",
    "\n",
    "import scDART.diffusion_dist as diff\n",
    "import scDART.dataset as dataset\n",
    "import scDART.model as model\n",
    "import scDART.loss as loss\n",
    "import scDART.train\n",
    "import scDART.TI as ti\n",
    "import scDART.benchmark as bmk\n",
    "import scDART.de_analy as de\n",
    "\n",
    "from umap import UMAP\n",
    "\n",
    "import scDART.utils as utils\n",
    "\n",
    "import scDART.post_align as palign\n",
    "from scipy.sparse import load_npz\n",
    "\n",
    "import scanpy as sc\n",
    "\n",
    "device = torch.device('cuda' if torch.cuda.is_available() else 'cpu')\n",
    "\n",
    "plt.rcParams[\"font.size\"] = 20"
   ]
  },
  {
   "cell_type": "code",
   "execution_count": 4,
   "id": "a7797dfb-d555-46ba-a7b4-d0014d9215bb",
   "metadata": {},
   "outputs": [
    {
     "data": {
      "text/plain": [
       "'3.10.8 | packaged by conda-forge | (main, Nov 22 2022, 08:26:04) [GCC 10.4.0]'"
      ]
     },
     "execution_count": 4,
     "metadata": {},
     "output_type": "execute_result"
    }
   ],
   "source": [
    "import sys\n",
    "\n",
    "sys.version"
   ]
  },
  {
   "cell_type": "code",
   "execution_count": 2,
   "id": "76f13bca-c184-4643-aa75-152358402d0d",
   "metadata": {},
   "outputs": [
    {
     "data": {
      "text/plain": [
       "0"
      ]
     },
     "execution_count": 2,
     "metadata": {},
     "output_type": "execute_result"
    }
   ],
   "source": [
    "# torch.cuda.current_device()\n",
    "# import os\n",
    "# os.environ['CUDA_VISIBLE_DEVICE']='2'\n",
    "import torch\n",
    "torch.cuda.set_device(0)\n",
    "torch.cuda.current_device()"
   ]
  },
  {
   "cell_type": "code",
   "execution_count": 2,
   "id": "84aa83dc-775c-43b8-99ee-4cd213192c30",
   "metadata": {},
   "outputs": [
    {
     "name": "stdout",
     "output_type": "stream",
     "text": [
      "Random seed: 0\n"
     ]
    }
   ],
   "source": [
    "# In[] scan and find the one with the highest neighborhood overlap score\n",
    "seeds = [0, 1, 2]\n",
    "latent_dims = [4, 8, 32]\n",
    "reg_ds = [1, 10]\n",
    "reg_gs = [0.01, 1, 10]\n",
    "reg_mmds = [1, 10, 20, 30]\n",
    "\n",
    "latent_dim = latent_dims[0]\n",
    "reg_d = reg_ds[0]\n",
    "reg_g = reg_gs[1]\n",
    "# harder to merge, need to make mmd loss larger\n",
    "reg_mmd = reg_mmds[1]\n",
    "seed = seeds[0]\n",
    "\n",
    "learning_rate = 3e-4\n",
    "n_epochs = 500\n",
    "use_anchor = False\n",
    "ts = [30, 50, 70]\n",
    "use_potential = True\n",
    "norm = \"l1\"\n",
    "\n",
    "print(\"Random seed: \" + str(seed))\n",
    "torch.manual_seed(seed)\n",
    "torch.cuda.manual_seed(seed)\n",
    "np.random.seed(seed)"
   ]
  },
  {
   "cell_type": "code",
   "execution_count": 12,
   "id": "9b808952-59dc-4d22-9871-320b460999f2",
   "metadata": {},
   "outputs": [],
   "source": [
    "# RNA preprocessing\n",
    "counts_rna = sc.read(\"/home/xcx/MYBenchmark-datas/P0/RNA/matrix.mtx\", cache = True).T\n",
    "sc.pp.highly_variable_genes(counts_rna, n_top_genes=1000)\n",
    "\n",
    "geneids = []\n",
    "for i in range(len(counts_rna.var.highly_variable)):\n",
    "    if counts_rna.var.highly_variable[i] == True:\n",
    "        geneids.append(i)\n",
    "\n",
    "df = pd.DataFrame(data=geneids)\n",
    "df.to_csv(os.path.join(\"/home/xcx/MYBenchmark-codes/1-scDART/mydata/P0/highvar_geneids.csv\"), index=False)\n",
    "\n",
    "counts_rna = counts_rna[:, geneids]\n",
    "sc.pp.normalize_total(counts_rna, target_sum=1e4)\n",
    "sc.pp.log1p(counts_rna)\n",
    "\n",
    "counts_rna = counts_rna.X\n",
    "counts_rna = counts_rna.todense()\n",
    "df = pd.DataFrame(data=counts_rna)\n",
    "df.to_csv(os.path.join(\"/home/xcx/MYBenchmark-codes/1-scDART/mydata/P0/highvar_counts_rna.csv\"), index=False)\n",
    "\n",
    "torch.cuda.empty_cache()"
   ]
  },
  {
   "cell_type": "code",
   "execution_count": 4,
   "id": "ee211dd8-8fa8-4e3a-bb3d-6b3452572b28",
   "metadata": {},
   "outputs": [
    {
     "name": "stdout",
     "output_type": "stream",
     "text": [
      "(5081, 24286)\n"
     ]
    }
   ],
   "source": [
    "# ATAC preprocessing\n",
    "counts_atac = sc.read(\"/home/xcx/MYBenchmark-datas/P0/ATAC/matrix.mtx\", cache = True).T\n",
    "hihgvar_regionids = pd.read_csv('/home/xcx/MYBenchmark-codes/1-scDART/mydata/P0/highvar_regionids.csv', sep='\\t', header=0).values[:,0]\n",
    "counts_atac = counts_atac[:, hihgvar_regionids]\n",
    "\n",
    "counts_atac = counts_atac.X\n",
    "counts_atac = counts_atac.todense()\n",
    "\n",
    "# binarize the scATAC-Seq count matrix\n",
    "counts_atac = np.where(counts_atac < 1, 0, 1)\n",
    "\n",
    "df = pd.DataFrame(data=counts_atac)\n",
    "df.to_csv(os.path.join(\"/home/xcx/MYBenchmark-codes/1-scDART/mydata/P0/highvar_counts_atac.csv\"), index=False)\n",
    "\n",
    "counts_atac\n",
    "print(counts_atac.shape)"
   ]
  },
  {
   "cell_type": "code",
   "execution_count": 14,
   "id": "e69c8fe2-1679-4169-91df-81dcece7721c",
   "metadata": {},
   "outputs": [
    {
     "data": {
      "text/plain": [
       "(5081, 24286)"
      ]
     },
     "execution_count": 14,
     "metadata": {},
     "output_type": "execute_result"
    }
   ],
   "source": [
    "counts_atac.shape"
   ]
  },
  {
   "cell_type": "code",
   "execution_count": 15,
   "id": "151a44c2-d706-43ee-ab3a-1562610ce122",
   "metadata": {},
   "outputs": [],
   "source": [
    "label_rna = pd.read_csv('/home/xcx/MYBenchmark-datas/P0/cell_label.csv', index_col=0).to_numpy()[:,0]\n",
    "label_atac = pd.read_csv('/home/xcx/MYBenchmark-datas/P0/cell_label.csv', index_col=0).to_numpy()[:,0]\n",
    "rna_dataset = dataset.dataset(counts = counts_rna, anchor = None)\n",
    "atac_dataset = dataset.dataset(counts = counts_atac, anchor = None)\n",
    "# coarse_reg = torch.FloatTensor(pd.read_csv(\"/home/xcx/SNARE-GSE126074/P0/ATAC/region2gene.csv\", header = True, index_col = 0).values).to(device)\n",
    "region2gene = sc.read(\"/home/xcx/MYBenchmark-codes/1-scDART/mydata/P0/highvar_region2gene.mtx\", cache = True).X.todense()\n",
    "coarse_reg = torch.FloatTensor(region2gene).to(device)\n",
    "\n",
    "batch_size = int(max([len(rna_dataset),len(atac_dataset)])/4)\n",
    "# batch_size = 4\n",
    "\n",
    "train_rna_loader = DataLoader(rna_dataset, batch_size = batch_size, shuffle = True)\n",
    "train_atac_loader = DataLoader(atac_dataset, batch_size = batch_size, shuffle = True)\n",
    "\n",
    "EMBED_CONFIG = {\n",
    "    'gact_layers': [atac_dataset.counts.shape[1], 1024, 512, rna_dataset.counts.shape[1]], \n",
    "    'proj_layers': [rna_dataset.counts.shape[1], 512, 128, latent_dim], # number of nodes in each \n",
    "    'learning_rate': learning_rate,\n",
    "    'n_epochs': n_epochs + 1,\n",
    "    'use_anchor': use_anchor,\n",
    "    'reg_d': reg_d,\n",
    "    'reg_g': reg_g,\n",
    "    'reg_mmd': reg_mmd,\n",
    "    'l_dist_type': 'kl',\n",
    "    'device': device\n",
    "}"
   ]
  },
  {
   "cell_type": "code",
   "execution_count": 24,
   "id": "d309065e-0633-4744-950c-4122d9fdb2d3",
   "metadata": {},
   "outputs": [],
   "source": [
    "label_rna = pd.read_csv('/home/xcx/MYBenchmark-datas/P0/cell_label.csv', index_col=0).to_numpy()[:,0]\n",
    "label_atac = pd.read_csv('/home/xcx/MYBenchmark-datas/P0/cell_label.csv', index_col=0).to_numpy()[:,0]"
   ]
  },
  {
   "cell_type": "code",
   "execution_count": 16,
   "id": "c63287a4-19bc-494d-afe9-afb17af6f0e6",
   "metadata": {},
   "outputs": [
    {
     "name": "stdout",
     "output_type": "stream",
     "text": [
      "running time(sec): 164.38278985023499\n",
      "running time(sec): 191.38158440589905\n",
      "running time(sec): 165.74893260002136\n",
      "running time(sec): 165.17644906044006\n",
      "running time(sec): 160.87509632110596\n",
      "running time(sec): 165.27909541130066\n"
     ]
    }
   ],
   "source": [
    "# calculate the diffusion distance\n",
    "dist_rna = diff.diffu_distance(rna_dataset.counts.numpy(), ts = ts,\n",
    "                                use_potential = use_potential, dr = \"pca\", n_components = 30)\n",
    "\n",
    "dist_atac = diff.diffu_distance(atac_dataset.counts.numpy(), ts = ts,\n",
    "                                use_potential = use_potential, dr = \"lsi\", n_components = 30)\n",
    "\n",
    "dist_rna = dist_rna/np.linalg.norm(dist_rna)\n",
    "dist_atac = dist_atac/np.linalg.norm(dist_atac)\n",
    "dist_rna = torch.FloatTensor(dist_rna).to(device)\n",
    "dist_atac = torch.FloatTensor(dist_atac).to(device)\n",
    "# initialize the model\n",
    "gene_act = model.gene_act(features = EMBED_CONFIG[\"gact_layers\"], dropout_rate = 0.0, negative_slope = 0.2).to(device)\n",
    "encoder = model.Encoder(features = EMBED_CONFIG[\"proj_layers\"], dropout_rate = 0.0, negative_slope = 0.2).to(device)\n",
    "model_dict = {\"gene_act\": gene_act, \"encoder\": encoder}\n",
    "\n",
    "opt_genact = torch.optim.Adam(gene_act.parameters(), lr = learning_rate)\n",
    "opt_encoder = torch.optim.Adam(encoder.parameters(), lr = learning_rate)\n",
    "opt_dict = {\"gene_act\": opt_genact, \"encoder\": opt_encoder}\n",
    "\n",
    "torch.cuda.empty_cache()"
   ]
  },
  {
   "cell_type": "code",
   "execution_count": 17,
   "id": "dde92201-8757-4d51-aa10-7a0fbfe3ca4d",
   "metadata": {},
   "outputs": [
    {
     "name": "stdout",
     "output_type": "stream",
     "text": [
      "tensor([[0.0000e+00, 3.2743e-05, 3.6373e-05,  ..., 1.8089e-05, 2.9289e-04,\n",
      "         2.9873e-05],\n",
      "        [3.2743e-05, 0.0000e+00, 5.0314e-06,  ..., 1.4818e-05, 3.2491e-04,\n",
      "         6.0915e-05],\n",
      "        [3.6373e-05, 5.0314e-06, 0.0000e+00,  ..., 1.8713e-05, 3.2869e-04,\n",
      "         6.4814e-05],\n",
      "        ...,\n",
      "        [1.8089e-05, 1.4818e-05, 1.8713e-05,  ..., 0.0000e+00, 3.1035e-04,\n",
      "         4.6284e-05],\n",
      "        [2.9289e-04, 3.2491e-04, 3.2869e-04,  ..., 3.1035e-04, 0.0000e+00,\n",
      "         2.6514e-04],\n",
      "        [2.9873e-05, 6.0915e-05, 6.4814e-05,  ..., 4.6284e-05, 2.6514e-04,\n",
      "         0.0000e+00]], device='cuda:0')\n"
     ]
    },
    {
     "data": {
      "text/plain": [
       "torch.Size([5081, 5081])"
      ]
     },
     "execution_count": 17,
     "metadata": {},
     "output_type": "execute_result"
    }
   ],
   "source": [
    "print(dist_atac)\n",
    "dist_atac.shape"
   ]
  },
  {
   "cell_type": "code",
   "execution_count": 18,
   "id": "f63320b3-bf06-4d87-b8a6-8f28d8669ed9",
   "metadata": {
    "tags": []
   },
   "outputs": [
    {
     "name": "stdout",
     "output_type": "stream",
     "text": [
      "epoch:  0\n",
      "\t mmd loss: 0.103\n",
      "\t ATAC dist loss: 0.973\n",
      "\t RNA dist loss: 0.388\n",
      "\t gene activity loss: 15150.331\n",
      "\t anchor matching loss: 0.000\n",
      "epoch:  100\n",
      "\t mmd loss: 0.092\n",
      "\t ATAC dist loss: 0.072\n",
      "\t RNA dist loss: 0.059\n",
      "\t gene activity loss: 45.939\n",
      "\t anchor matching loss: 0.000\n",
      "epoch:  200\n",
      "\t mmd loss: 0.098\n",
      "\t ATAC dist loss: 0.068\n",
      "\t RNA dist loss: 0.054\n",
      "\t gene activity loss: 19.816\n",
      "\t anchor matching loss: 0.000\n",
      "epoch:  300\n",
      "\t mmd loss: 0.087\n",
      "\t ATAC dist loss: 0.051\n",
      "\t RNA dist loss: 0.046\n",
      "\t gene activity loss: 10.784\n",
      "\t anchor matching loss: 0.000\n",
      "epoch:  400\n",
      "\t mmd loss: 0.083\n",
      "\t ATAC dist loss: 0.048\n",
      "\t RNA dist loss: 0.046\n",
      "\t gene activity loss: 6.519\n",
      "\t anchor matching loss: 0.000\n",
      "epoch:  500\n",
      "\t mmd loss: 0.083\n",
      "\t ATAC dist loss: 0.045\n",
      "\t RNA dist loss: 0.047\n",
      "\t gene activity loss: 4.162\n",
      "\t anchor matching loss: 0.000\n",
      "754\n"
     ]
    }
   ],
   "source": [
    "import scDART.train as train\n",
    "import os\n",
    "os.environ[\"PYTORCH_CUDA_ALLOC_CONF\"] = \"max_split_size_mb:16\"\n",
    "import datetime\n",
    "starttime = datetime.datetime.now()\n",
    "\n",
    "# training models\n",
    "train.match_latent(model = model_dict, opts = opt_dict, dist_atac = dist_atac, dist_rna = dist_rna, \n",
    "                data_loader_rna = train_rna_loader, data_loader_atac = train_atac_loader, n_epochs = EMBED_CONFIG[\"n_epochs\"], \n",
    "                reg_mtx = coarse_reg, reg_d = EMBED_CONFIG[\"reg_d\"], reg_g = EMBED_CONFIG[\"reg_g\"], reg_mmd = EMBED_CONFIG[\"reg_mmd\"], use_anchor = EMBED_CONFIG[\"use_anchor\"], norm = norm, \n",
    "                mode = EMBED_CONFIG[\"l_dist_type\"])\n",
    "\n",
    "with torch.no_grad():\n",
    "    z_rna = model_dict[\"encoder\"](rna_dataset.counts.to(device)).cpu().detach()\n",
    "    z_atac = model_dict[\"encoder\"](model_dict[\"gene_act\"](atac_dataset.counts.to(device))).cpu().detach()\n",
    "\n",
    "    \n",
    "# np.save(file = \"/home/xcx/results/P0/1-scDART/z_rna_\" + str(latent_dim) + \"_\" + str(reg_d) + \"_\" + str(reg_g) + \"_\" + str(reg_mmd) + \"_\" + str(seed) + \"_l1.npy\", arr = z_rna.numpy())\n",
    "# np.save(file = \"/home/xcx/results/P0/1-scDART/z_atac_\" + str(latent_dim) + \"_\" + str(reg_d) + \"_\" + str(reg_g) + \"_\" + str(reg_mmd) + \"_\" + str(seed) + \"_l1.npy\", arr = z_atac.numpy())\n",
    "# torch.save(model_dict, \"/home/xcx/results/P0/1-scDART/model_\" + str(latent_dim) + \"_\" + str(reg_d) + \"_\" + str(reg_g) + \"_\" + str(reg_mmd) + \"_\" + str(seed) + \"_l1.pth\")\n",
    "\n",
    "#long running\n",
    "endtime = datetime.datetime.now()\n",
    "print((endtime-starttime).seconds)"
   ]
  },
  {
   "cell_type": "code",
   "execution_count": 19,
   "id": "81c1c066-e20a-4c9f-99dc-32bd161baa9e",
   "metadata": {},
   "outputs": [],
   "source": [
    "latent_rna = z_rna.numpy()\n",
    "latent_atac = z_atac.numpy()\n",
    "\n",
    "df = pd.DataFrame(data=latent_rna)\n",
    "df.to_csv(os.path.join(\"/home/xcx/results/P0/1-scDART/z_rna.csv\"), index=False)\n",
    "df = pd.DataFrame(data=latent_atac)\n",
    "df.to_csv(os.path.join(\"/home/xcx/results/P0/1-scDART/z_atac.csv\"), index=False)"
   ]
  },
  {
   "cell_type": "code",
   "execution_count": 22,
   "id": "125a2058-ef9f-43fc-a5e9-89a0b7283d8e",
   "metadata": {
    "tags": []
   },
   "outputs": [],
   "source": [
    "z_rna = pd.read_csv(\"/home/xcx/results/P0/1-scDART/z_rna.csv\", index_col = None).values\n",
    "z_atac = pd.read_csv(\"/home/xcx/results/P0/1-scDART/z_atac.csv\", index_col = None).values\n",
    "label_rna = pd.read_csv('/home/xcx/MYBenchmark-datas/P0/cell_label.csv', index_col=False).to_numpy()[:,0]\n",
    "label_atac = pd.read_csv('/home/xcx/MYBenchmark-datas/P0/cell_label.csv', index_col=False).to_numpy()[:,0]"
   ]
  },
  {
   "cell_type": "code",
   "execution_count": null,
   "id": "af51e6c0-0d14-4049-beaf-18491eae2a96",
   "metadata": {},
   "outputs": [],
   "source": []
  }
 ],
 "metadata": {
  "kernelspec": {
   "display_name": "scDART",
   "language": "python",
   "name": "scdart"
  },
  "language_info": {
   "codemirror_mode": {
    "name": "ipython",
    "version": 3
   },
   "file_extension": ".py",
   "mimetype": "text/x-python",
   "name": "python",
   "nbconvert_exporter": "python",
   "pygments_lexer": "ipython3",
   "version": "3.10.8"
  }
 },
 "nbformat": 4,
 "nbformat_minor": 5
}
