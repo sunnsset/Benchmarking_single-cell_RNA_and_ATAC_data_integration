{
 "cells": [
  {
   "cell_type": "code",
   "execution_count": 1,
   "id": "9b21c4c1-720d-466f-8aac-278074ed18d2",
   "metadata": {},
   "outputs": [],
   "source": [
    "# In[]\n",
    "import sys, os\n",
    "sys.path.append('../')\n",
    "sys.path.append('../src/')\n",
    "import numpy as np\n",
    "import pandas as pd\n",
    "from scipy import sparse\n",
    "import networkx as nx\n",
    "\n",
    "import torch\n",
    "import torch.nn.functional as F\n",
    "import torch.nn as nn\n",
    "import torch.optim as optim\n",
    "import matplotlib.pyplot as plt\n",
    "from torch.utils.data import Dataset, DataLoader\n",
    "import time\n",
    "\n",
    "from sklearn.decomposition import PCA\n",
    "from sklearn.manifold import MDS\n",
    "\n",
    "import scDART.diffusion_dist as diff\n",
    "import scDART.dataset as dataset\n",
    "import scDART.model as model\n",
    "import scDART.loss as loss\n",
    "import scDART.train\n",
    "import scDART.TI as ti\n",
    "import scDART.benchmark as bmk\n",
    "import scDART.de_analy as de\n",
    "\n",
    "from umap import UMAP\n",
    "\n",
    "import scDART.utils as utils\n",
    "\n",
    "import scDART.post_align as palign\n",
    "from scipy.sparse import load_npz\n",
    "\n",
    "import scanpy as sc\n",
    "\n",
    "device = torch.device('cuda' if torch.cuda.is_available() else 'cpu')\n",
    "\n",
    "plt.rcParams[\"font.size\"] = 20"
   ]
  },
  {
   "cell_type": "code",
   "execution_count": 2,
   "id": "76f13bca-c184-4643-aa75-152358402d0d",
   "metadata": {},
   "outputs": [
    {
     "data": {
      "text/plain": [
       "0"
      ]
     },
     "execution_count": 2,
     "metadata": {},
     "output_type": "execute_result"
    }
   ],
   "source": [
    "# torch.cuda.current_device()\n",
    "# import os\n",
    "# os.environ['CUDA_VISIBLE_DEVICE']='2'\n",
    "import torch\n",
    "torch.cuda.set_device(0)\n",
    "torch.cuda.current_device()"
   ]
  },
  {
   "cell_type": "code",
   "execution_count": 3,
   "id": "84aa83dc-775c-43b8-99ee-4cd213192c30",
   "metadata": {},
   "outputs": [
    {
     "name": "stdout",
     "output_type": "stream",
     "text": [
      "Random seed: 0\n"
     ]
    }
   ],
   "source": [
    "# In[] scan and find the one with the highest neighborhood overlap score\n",
    "seeds = [0, 1, 2]\n",
    "latent_dims = [4, 8, 32]\n",
    "reg_ds = [1, 10]\n",
    "reg_gs = [0.01, 1, 10]\n",
    "reg_mmds = [1, 10, 20, 30]\n",
    "\n",
    "latent_dim = latent_dims[0]\n",
    "reg_d = reg_ds[0]\n",
    "reg_g = reg_gs[1]\n",
    "# harder to merge, need to make mmd loss larger\n",
    "reg_mmd = reg_mmds[1]\n",
    "seed = seeds[0]\n",
    "\n",
    "learning_rate = 3e-4\n",
    "n_epochs = 500\n",
    "use_anchor = False\n",
    "ts = [30, 50, 70]\n",
    "use_potential = True\n",
    "norm = \"l1\"\n",
    "\n",
    "print(\"Random seed: \" + str(seed))\n",
    "torch.manual_seed(seed)\n",
    "torch.cuda.manual_seed(seed)\n",
    "np.random.seed(seed)"
   ]
  },
  {
   "cell_type": "code",
   "execution_count": 4,
   "id": "9b808952-59dc-4d22-9871-320b460999f2",
   "metadata": {},
   "outputs": [
    {
     "data": {
      "text/plain": [
       "(8237, 1000)"
      ]
     },
     "execution_count": 4,
     "metadata": {},
     "output_type": "execute_result"
    }
   ],
   "source": [
    "# RNA preprocessing\n",
    "counts_rna = sc.read(\"/data1/xcx/unpaired-data/uterus/RNA/highvar_counts_rna.mtx\", cache = True).X.toarray()\n",
    "counts_rna.shape"
   ]
  },
  {
   "cell_type": "code",
   "execution_count": 6,
   "id": "ee211dd8-8fa8-4e3a-bb3d-6b3452572b28",
   "metadata": {},
   "outputs": [
    {
     "data": {
      "text/plain": [
       "(8314, 32524)"
      ]
     },
     "execution_count": 6,
     "metadata": {},
     "output_type": "execute_result"
    }
   ],
   "source": [
    "# ATAC preprocessing\n",
    "counts_atac = sc.read(\"/data1/xcx/unpaired-data/uterus/ATAC/uterus_Zhang2021/highvar_counts_atac.mtx\", cache = True).X.toarray()\n",
    "\n",
    "# binarize the scATAC-Seq count matrix\n",
    "counts_atac = np.where(counts_atac < 1, 0, 1)\n",
    "\n",
    "counts_atac.shape"
   ]
  },
  {
   "cell_type": "code",
   "execution_count": 7,
   "id": "151a44c2-d706-43ee-ab3a-1562610ce122",
   "metadata": {},
   "outputs": [],
   "source": [
    "label_rna = sc.read(\"/data1/xcx/unpaired-data/uterus/RNA/Uterus_Wang_2020_selected.h5ad\", cache = True).obs[\"cell_type\"].values\n",
    "label_atac = sc.read(\"/data1/xcx/unpaired-data/uterus/ATAC/uterus_Zhang2021/adata_anno_selected.h5ad\", cache = True).obs[\"celltype\"].values\n",
    "rna_dataset = dataset.dataset(counts = counts_rna, anchor = None)\n",
    "atac_dataset = dataset.dataset(counts = counts_atac, anchor = None)\n",
    "# coarse_reg = torch.FloatTensor(pd.read_csv(\"/home/xcx/SNARE-GSE126074/P0/ATAC/region2gene.csv\", header = True, index_col = 0).values).to(device)\n",
    "region2gene = sc.read(\"/data1/xcx/unpaired-data/uterus/highvar_region2gene.mtx\", cache = True).X.toarray()\n",
    "coarse_reg = torch.FloatTensor(region2gene).to(device)\n",
    "\n",
    "# batch_size = int(max([len(rna_dataset),len(atac_dataset)])/4)\n",
    "batch_size = 4\n",
    "\n",
    "train_rna_loader = DataLoader(rna_dataset, batch_size = batch_size, shuffle = True)\n",
    "train_atac_loader = DataLoader(atac_dataset, batch_size = batch_size, shuffle = True)\n",
    "\n",
    "EMBED_CONFIG = {\n",
    "    'gact_layers': [atac_dataset.counts.shape[1], 1024, 512, rna_dataset.counts.shape[1]], \n",
    "    'proj_layers': [rna_dataset.counts.shape[1], 512, 128, latent_dim], # number of nodes in each \n",
    "    'learning_rate': learning_rate,\n",
    "    'n_epochs': n_epochs + 1,\n",
    "    'use_anchor': use_anchor,\n",
    "    'reg_d': reg_d,\n",
    "    'reg_g': reg_g,\n",
    "    'reg_mmd': reg_mmd,\n",
    "    'l_dist_type': 'kl',\n",
    "    'device': device\n",
    "}"
   ]
  },
  {
   "cell_type": "code",
   "execution_count": 8,
   "id": "c63287a4-19bc-494d-afe9-afb17af6f0e6",
   "metadata": {},
   "outputs": [
    {
     "name": "stdout",
     "output_type": "stream",
     "text": [
      "running time(sec): 194.85034251213074\n",
      "running time(sec): 196.1754069328308\n",
      "running time(sec): 199.8383138179779\n",
      "running time(sec): 196.2096483707428\n",
      "running time(sec): 195.05030298233032\n",
      "running time(sec): 196.8573877811432\n"
     ]
    }
   ],
   "source": [
    "# calculate the diffusion distance\n",
    "dist_rna = diff.diffu_distance(rna_dataset.counts.numpy(), ts = ts,\n",
    "                                use_potential = use_potential, dr = \"pca\", n_components = 30)\n",
    "\n",
    "dist_atac = diff.diffu_distance(atac_dataset.counts.numpy(), ts = ts,\n",
    "                                use_potential = use_potential, dr = \"lsi\", n_components = 30)\n",
    "\n",
    "dist_rna = dist_rna/np.linalg.norm(dist_rna)\n",
    "dist_atac = dist_atac/np.linalg.norm(dist_atac)\n",
    "dist_rna = torch.FloatTensor(dist_rna).to(device)\n",
    "dist_atac = torch.FloatTensor(dist_atac).to(device)\n",
    "# initialize the model\n",
    "gene_act = model.gene_act(features = EMBED_CONFIG[\"gact_layers\"], dropout_rate = 0.0, negative_slope = 0.2).to(device)\n",
    "encoder = model.Encoder(features = EMBED_CONFIG[\"proj_layers\"], dropout_rate = 0.0, negative_slope = 0.2).to(device)\n",
    "model_dict = {\"gene_act\": gene_act, \"encoder\": encoder}\n",
    "\n",
    "opt_genact = torch.optim.Adam(gene_act.parameters(), lr = learning_rate)\n",
    "opt_encoder = torch.optim.Adam(encoder.parameters(), lr = learning_rate)\n",
    "opt_dict = {\"gene_act\": opt_genact, \"encoder\": opt_encoder}\n",
    "\n",
    "torch.cuda.empty_cache()"
   ]
  },
  {
   "cell_type": "code",
   "execution_count": 9,
   "id": "dde92201-8757-4d51-aa10-7a0fbfe3ca4d",
   "metadata": {},
   "outputs": [
    {
     "name": "stdout",
     "output_type": "stream",
     "text": [
      "tensor([[0.0000e+00, 2.8855e-04, 2.5324e-04,  ..., 2.6521e-04, 2.3877e-04,\n",
      "         2.3714e-04],\n",
      "        [2.8855e-04, 0.0000e+00, 2.3273e-04,  ..., 2.4356e-04, 2.3993e-04,\n",
      "         2.3485e-04],\n",
      "        [2.5324e-04, 2.3273e-04, 0.0000e+00,  ..., 1.8940e-04, 6.4993e-05,\n",
      "         6.4968e-05],\n",
      "        ...,\n",
      "        [2.6521e-04, 2.4356e-04, 1.8940e-04,  ..., 0.0000e+00, 1.8183e-04,\n",
      "         1.5383e-04],\n",
      "        [2.3877e-04, 2.3993e-04, 6.4993e-05,  ..., 1.8183e-04, 0.0000e+00,\n",
      "         3.3076e-05],\n",
      "        [2.3714e-04, 2.3485e-04, 6.4968e-05,  ..., 1.5383e-04, 3.3076e-05,\n",
      "         0.0000e+00]], device='cuda:0')\n"
     ]
    },
    {
     "data": {
      "text/plain": [
       "torch.Size([8314, 8314])"
      ]
     },
     "execution_count": 9,
     "metadata": {},
     "output_type": "execute_result"
    }
   ],
   "source": [
    "print(dist_atac)\n",
    "dist_atac.shape"
   ]
  },
  {
   "cell_type": "code",
   "execution_count": 10,
   "id": "f63320b3-bf06-4d87-b8a6-8f28d8669ed9",
   "metadata": {
    "tags": []
   },
   "outputs": [
    {
     "name": "stdout",
     "output_type": "stream",
     "text": [
      "epoch:  0\n",
      "\t mmd loss: 26.237\n",
      "\t ATAC dist loss: 0.240\n",
      "\t RNA dist loss: 0.407\n",
      "\t gene activity loss: 287.654\n",
      "\t anchor matching loss: 0.000\n",
      "epoch:  100\n",
      "\t mmd loss: 0.011\n",
      "\t ATAC dist loss: 0.113\n",
      "\t RNA dist loss: 0.035\n",
      "\t gene activity loss: 6.247\n",
      "\t anchor matching loss: 0.000\n",
      "epoch:  200\n",
      "\t mmd loss: 0.022\n",
      "\t ATAC dist loss: 0.092\n",
      "\t RNA dist loss: 0.042\n",
      "\t gene activity loss: 1.501\n",
      "\t anchor matching loss: 0.000\n",
      "epoch:  300\n",
      "\t mmd loss: 0.032\n",
      "\t ATAC dist loss: 0.102\n",
      "\t RNA dist loss: 0.048\n",
      "\t gene activity loss: 35.506\n",
      "\t anchor matching loss: 0.000\n",
      "epoch:  400\n",
      "\t mmd loss: 0.024\n",
      "\t ATAC dist loss: 0.087\n",
      "\t RNA dist loss: 0.040\n",
      "\t gene activity loss: 22.508\n",
      "\t anchor matching loss: 0.000\n",
      "epoch:  500\n",
      "\t mmd loss: 0.022\n",
      "\t ATAC dist loss: 0.094\n",
      "\t RNA dist loss: 0.038\n",
      "\t gene activity loss: 1.642\n",
      "\t anchor matching loss: 0.000\n",
      "33676\n"
     ]
    }
   ],
   "source": [
    "import scDART.train as train\n",
    "import os\n",
    "os.environ[\"PYTORCH_CUDA_ALLOC_CONF\"] = \"max_split_size_mb:16\"\n",
    "import datetime\n",
    "starttime = datetime.datetime.now()\n",
    "\n",
    "# training models\n",
    "train.match_latent(model = model_dict, opts = opt_dict, dist_atac = dist_atac, dist_rna = dist_rna, \n",
    "                data_loader_rna = train_rna_loader, data_loader_atac = train_atac_loader, n_epochs = EMBED_CONFIG[\"n_epochs\"], \n",
    "                reg_mtx = coarse_reg, reg_d = EMBED_CONFIG[\"reg_d\"], reg_g = EMBED_CONFIG[\"reg_g\"], reg_mmd = EMBED_CONFIG[\"reg_mmd\"], use_anchor = EMBED_CONFIG[\"use_anchor\"], norm = norm, \n",
    "                mode = EMBED_CONFIG[\"l_dist_type\"])\n",
    "\n",
    "with torch.no_grad():\n",
    "    z_rna = model_dict[\"encoder\"](rna_dataset.counts.to(device)).cpu().detach()\n",
    "    z_atac = model_dict[\"encoder\"](model_dict[\"gene_act\"](atac_dataset.counts.to(device))).cpu().detach()\n",
    "\n",
    "    \n",
    "# np.save(file = \"/home/xcx/results/P0/1-scDART/z_rna_\" + str(latent_dim) + \"_\" + str(reg_d) + \"_\" + str(reg_g) + \"_\" + str(reg_mmd) + \"_\" + str(seed) + \"_l1.npy\", arr = z_rna.numpy())\n",
    "# np.save(file = \"/home/xcx/results/P0/1-scDART/z_atac_\" + str(latent_dim) + \"_\" + str(reg_d) + \"_\" + str(reg_g) + \"_\" + str(reg_mmd) + \"_\" + str(seed) + \"_l1.npy\", arr = z_atac.numpy())\n",
    "# torch.save(model_dict, \"/home/xcx/results/P0/1-scDART/model_\" + str(latent_dim) + \"_\" + str(reg_d) + \"_\" + str(reg_g) + \"_\" + str(reg_mmd) + \"_\" + str(seed) + \"_l1.pth\")\n",
    "\n",
    "#long running\n",
    "endtime = datetime.datetime.now()\n",
    "print((endtime-starttime).seconds)\n",
    "\n",
    "latent_rna = z_rna.numpy()\n",
    "latent_atac = z_atac.numpy()\n",
    "\n",
    "df = pd.DataFrame(data=latent_rna)\n",
    "df.to_csv(os.path.join(\"/home/xcx/results/uterus/1-scDART/z_rna.csv\"), index=False)\n",
    "df = pd.DataFrame(data=latent_atac)\n",
    "df.to_csv(os.path.join(\"/home/xcx/results/uterus/1-scDART/z_atac.csv\"), index=False)"
   ]
  }
 ],
 "metadata": {
  "kernelspec": {
   "display_name": "scDART",
   "language": "python",
   "name": "scdart"
  },
  "language_info": {
   "codemirror_mode": {
    "name": "ipython",
    "version": 3
   },
   "file_extension": ".py",
   "mimetype": "text/x-python",
   "name": "python",
   "nbconvert_exporter": "python",
   "pygments_lexer": "ipython3",
   "version": "3.10.8"
  }
 },
 "nbformat": 4,
 "nbformat_minor": 5
}
