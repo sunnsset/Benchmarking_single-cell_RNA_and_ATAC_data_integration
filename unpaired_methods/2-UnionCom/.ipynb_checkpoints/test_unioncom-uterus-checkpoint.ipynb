{
 "cells": [
  {
   "cell_type": "code",
   "execution_count": 1,
   "id": "7f98ea43-ac4b-469f-bac8-817ee7762a25",
   "metadata": {},
   "outputs": [],
   "source": [
    "# In[]\n",
    "import sys, os\n",
    "sys.path.append('../')\n",
    "sys.path.append('../src/')\n",
    "\n",
    "from unioncom import UnionCom\n",
    "from test_unioncom_acc import lsi_ATAC\n",
    "\n",
    "import numpy as np\n",
    "import pandas as pd\n",
    "from scipy import sparse\n",
    "import networkx as nx\n",
    "\n",
    "import torch\n",
    "import torch.nn.functional as F\n",
    "import torch.nn as nn\n",
    "import torch.optim as optim\n",
    "import matplotlib.pyplot as plt\n",
    "from torch.utils.data import Dataset, DataLoader\n",
    "import time\n",
    "\n",
    "from sklearn.decomposition import PCA\n",
    "from sklearn.manifold import MDS\n",
    "\n",
    "import benchmark as bmk\n",
    "# import de_analy as de\n",
    "\n",
    "from umap import UMAP\n",
    "\n",
    "import utils as utils\n",
    "\n",
    "# import post_align as palign\n",
    "from scipy.sparse import load_npz\n",
    "\n",
    "import scanpy as sc\n",
    "\n",
    "device = torch.device('cuda' if torch.cuda.is_available() else 'cpu')"
   ]
  },
  {
   "cell_type": "code",
   "execution_count": 2,
   "id": "7d11c346-e5bd-40e5-a20f-94b0eb232157",
   "metadata": {
    "tags": []
   },
   "outputs": [
    {
     "name": "stdout",
     "output_type": "stream",
     "text": [
      "(8314, 32524)\n",
      "<class 'numpy.ndarray'>\n",
      "[[-0.34082285 -0.16343422 -0.01924491 ... -0.3437808  -0.13363136\n",
      "  -0.7478793 ]\n",
      " [-0.34082285 -0.16343422 -0.01924491 ... -0.3437808   0.2874385\n",
      "   0.00659533]\n",
      " [-0.34082285 -0.16343422 -0.01924491 ... -0.3437808   0.25557947\n",
      "  -0.01994895]\n",
      " ...\n",
      " [-0.34082285 -0.16343422 -0.01924491 ... -0.3437808  -0.34311333\n",
      "  -4.035301  ]\n",
      " [-0.34082285 -0.16343422 -0.01924491 ... -0.3437808   1.0165334\n",
      "   0.9535727 ]\n",
      " [-0.34082285 -0.16343422 -0.01924491 ... -0.3437808  -1.162309\n",
      "  -1.3343065 ]]\n"
     ]
    }
   ],
   "source": [
    "counts_rna = sc.read(\"/data1/xcx/unpaired-data/uterus/RNA/highvar_counts_rna.mtx\", cache = True).X.toarray()\n",
    "counts_atac = sc.read(\"/data1/xcx/unpaired-data/uterus/ATAC/uterus_Zhang2021/highvar_counts_atac.mtx\", cache = True).X.toarray()\n",
    "\n",
    "label_rna = sc.read(\"/data1/xcx/unpaired-data/uterus/RNA/Uterus_Wang_2020_selected.h5ad\", cache = True).obs[\"cell_type\"].values"
   ]
  },
  {
   "cell_type": "code",
   "execution_count": 3,
   "id": "3fb3c243-1dc5-4a94-ad92-fc80cd48764b",
   "metadata": {},
   "outputs": [],
   "source": [
    "# dimension reduction\n",
    "counts_atac = np.where(counts_atac < 1, 0, 1)\n",
    "counts_atac = lsi_ATAC(counts_atac, k = 1000)"
   ]
  },
  {
   "cell_type": "code",
   "execution_count": 5,
   "id": "d805ed7d-f292-483a-b6ee-e0060ca982ea",
   "metadata": {
    "tags": []
   },
   "outputs": [
    {
     "name": "stdout",
     "output_type": "stream",
     "text": [
      "use random seed: 666\n",
      "Shape of Raw data\n",
      "Dataset 0: (8237, 1000)\n",
      "Dataset 1: (8314, 999)\n",
      "---------------------------------\n",
      "Find correspondence between Dataset 1 and Dataset 2\n",
      "use device: cuda:0\n",
      "epoch:[100/3000] err:1048.7764 alpha:941.4607\n",
      "epoch:[200/3000] err:140.5151 alpha:126.1369\n",
      "epoch:[300/3000] err:18.8262 alpha:16.8998\n",
      "epoch:[400/3000] err:2.5223 alpha:2.2642\n",
      "epoch:[500/3000] err:0.3379 alpha:0.3034\n",
      "epoch:[600/3000] err:0.0453 alpha:0.0406\n",
      "epoch:[700/3000] err:0.0061 alpha:0.0054\n",
      "epoch:[800/3000] err:0.0008 alpha:0.0007\n",
      "epoch:[900/3000] err:0.0001 alpha:0.0001\n",
      "epoch:[1000/3000] err:0.0000 alpha:0.0000\n",
      "epoch:[1100/3000] err:0.0000 alpha:0.0000\n",
      "epoch:[1200/3000] err:0.0000 alpha:0.0000\n",
      "epoch:[1300/3000] err:0.0000 alpha:0.0000\n",
      "epoch:[1400/3000] err:0.0000 alpha:0.0000\n",
      "epoch:[1500/3000] err:0.0000 alpha:0.0000\n",
      "epoch:[1600/3000] err:0.0000 alpha:0.0000\n",
      "epoch:[1700/3000] err:0.0000 alpha:0.0000\n",
      "epoch:[1800/3000] err:0.0000 alpha:0.0000\n",
      "epoch:[1900/3000] err:0.0000 alpha:0.0000\n",
      "epoch:[2000/3000] err:0.0000 alpha:0.0000\n",
      "epoch:[2100/3000] err:0.0000 alpha:0.0000\n",
      "epoch:[2200/3000] err:0.0000 alpha:0.0000\n",
      "epoch:[2300/3000] err:0.0000 alpha:0.0000\n",
      "epoch:[2400/3000] err:0.0000 alpha:0.0000\n",
      "epoch:[2500/3000] err:0.0000 alpha:0.0000\n",
      "epoch:[2600/3000] err:0.0000 alpha:0.0000\n",
      "epoch:[2700/3000] err:0.0000 alpha:0.0000\n",
      "epoch:[2800/3000] err:0.0000 alpha:0.0000\n",
      "epoch:[2900/3000] err:0.0000 alpha:0.0000\n",
      "epoch:[3000/3000] err:0.0000 alpha:0.0000\n",
      "Finished Matching!\n",
      "---------------------------------\n",
      "Begin finding the embedded space\n",
      "epoch:[10/100]: loss:6.260953, align_loss:0.146853\n",
      "epoch:[20/100]: loss:3.119667, align_loss:0.194186\n",
      "epoch:[30/100]: loss:8.324233, align_loss:0.179926\n",
      "epoch:[40/100]: loss:4.683322, align_loss:0.183990\n",
      "epoch:[50/100]: loss:4.897762, align_loss:0.209263\n",
      "epoch:[60/100]: loss:8.737375, align_loss:0.215164\n",
      "epoch:[70/100]: loss:7.878646, align_loss:0.204479\n",
      "epoch:[80/100]: loss:8.312797, align_loss:0.213885\n",
      "epoch:[90/100]: loss:4.221473, align_loss:0.207781\n",
      "epoch:[100/100]: loss:8.420275, align_loss:0.213158\n",
      "Done\n",
      "---------------------------------\n",
      "unionCom Done!\n",
      "time: 301.62830805778503 seconds\n",
      "3587\n"
     ]
    }
   ],
   "source": [
    "results_dir = \"/home/xcx/results/uterus/2-Union-com/\"\n",
    "\n",
    "import datetime\n",
    "starttime = datetime.datetime.now()\n",
    "\n",
    "uc = UnionCom.UnionCom(epoch_pd = 3000)\n",
    "integrated_data = uc.fit_transform([counts_rna, counts_atac])\n",
    "z_rna = integrated_data[0]\n",
    "z_atac = integrated_data[1]\n",
    "\n",
    "#long running\n",
    "endtime = datetime.datetime.now()\n",
    "print((endtime-starttime).seconds)"
   ]
  },
  {
   "cell_type": "code",
   "execution_count": 6,
   "id": "b475ef6b-2047-4fa8-928b-5a168c7e335a",
   "metadata": {},
   "outputs": [],
   "source": [
    "df = pd.DataFrame(data=z_rna)\n",
    "df.to_csv(os.path.join(\"/home/xcx/results/uterus/2-Union-com/z_rna-3000.csv\"), index=False)\n",
    "df = pd.DataFrame(data=z_atac)\n",
    "df.to_csv(os.path.join(\"/home/xcx/results/uterus/2-Union-com/z_atac-3000.csv\"), index=False)"
   ]
  }
 ],
 "metadata": {
  "kernelspec": {
   "display_name": "unioncom",
   "language": "python",
   "name": "unioncom"
  },
  "language_info": {
   "codemirror_mode": {
    "name": "ipython",
    "version": 3
   },
   "file_extension": ".py",
   "mimetype": "text/x-python",
   "name": "python",
   "nbconvert_exporter": "python",
   "pygments_lexer": "ipython3",
   "version": "3.10.8"
  }
 },
 "nbformat": 4,
 "nbformat_minor": 5
}
