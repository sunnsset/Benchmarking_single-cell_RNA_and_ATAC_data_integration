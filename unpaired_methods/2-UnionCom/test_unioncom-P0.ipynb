{
 "cells": [
  {
   "cell_type": "code",
   "execution_count": 1,
   "id": "7f98ea43-ac4b-469f-bac8-817ee7762a25",
   "metadata": {},
   "outputs": [],
   "source": [
    "# In[]\n",
    "import sys, os\n",
    "sys.path.append('../')\n",
    "sys.path.append('../src/')\n",
    "\n",
    "from unioncom import UnionCom\n",
    "from test_unioncom_acc import lsi_ATAC\n",
    "\n",
    "import numpy as np\n",
    "import pandas as pd\n",
    "from scipy import sparse\n",
    "import networkx as nx\n",
    "\n",
    "import torch\n",
    "import torch.nn.functional as F\n",
    "import torch.nn as nn\n",
    "import torch.optim as optim\n",
    "import matplotlib.pyplot as plt\n",
    "from torch.utils.data import Dataset, DataLoader\n",
    "import time\n",
    "\n",
    "from sklearn.decomposition import PCA\n",
    "from sklearn.manifold import MDS\n",
    "\n",
    "import benchmark as bmk\n",
    "# import de_analy as de\n",
    "\n",
    "from umap import UMAP\n",
    "\n",
    "import utils as utils\n",
    "\n",
    "# import post_align as palign\n",
    "from scipy.sparse import load_npz\n",
    "\n",
    "import scanpy as sc\n",
    "\n",
    "device = torch.device('cuda' if torch.cuda.is_available() else 'cpu')"
   ]
  },
  {
   "cell_type": "code",
   "execution_count": 2,
   "id": "7d11c346-e5bd-40e5-a20f-94b0eb232157",
   "metadata": {
    "tags": []
   },
   "outputs": [
    {
     "name": "stdout",
     "output_type": "stream",
     "text": [
      "(5081, 229429)\n",
      "<class 'numpy.matrix'>\n",
      "AnnData object with n_obs × n_vars = 5081 × 19322\n"
     ]
    }
   ],
   "source": [
    "counts_rna = sc.read(\"/home/xcx/MYBenchmark-datas/P0/RNA/matrix.mtx\", cache = True).T\n",
    "counts_atac = sc.read(\"/home/xcx/MYBenchmark-datas/P0/ATAC/matrix.mtx\", cache = True).T\n",
    "counts_atac = counts_atac.X\n",
    "counts_atac = counts_atac.todense()\n",
    "label_rna = pd.read_csv('/home/xcx/MYBenchmark-datas/P0/cell_label.csv', index_col=False).to_numpy()[:,0]\n",
    "label_atac = pd.read_csv('/home/xcx/MYBenchmark-datas/P0/cell_label.csv', index_col=False).to_numpy()[:,0]"
   ]
  },
  {
   "cell_type": "code",
   "execution_count": 3,
   "id": "b6969ca7-5829-4c82-af75-1777d980204f",
   "metadata": {},
   "outputs": [
    {
     "name": "stderr",
     "output_type": "stream",
     "text": [
      "/data1/xcx/anaconda3/envs/scDART/lib/python3.10/site-packages/scanpy/preprocessing/_normalization.py:170: UserWarning: Received a view of an AnnData. Making a copy.\n",
      "  view_to_actual(adata)\n"
     ]
    }
   ],
   "source": [
    "# preprocessing\n",
    "sc.pp.highly_variable_genes(counts_rna, n_top_genes=1000)\n",
    "counts_rna = counts_rna[:, counts_rna.var.highly_variable]\n",
    "sc.pp.normalize_total(counts_rna, target_sum=1e4)\n",
    "sc.pp.log1p(counts_rna)\n",
    "\n",
    "counts_rna = counts_rna.X\n",
    "counts_rna = counts_rna.todense()"
   ]
  },
  {
   "cell_type": "code",
   "execution_count": 4,
   "id": "3fb3c243-1dc5-4a94-ad92-fc80cd48764b",
   "metadata": {},
   "outputs": [],
   "source": [
    "# dimension reduction\n",
    "counts_atac = np.where(counts_atac < 1, 0, 1)\n",
    "counts_atac = lsi_ATAC(counts_atac, k = 1000)"
   ]
  },
  {
   "cell_type": "code",
   "execution_count": 11,
   "id": "d805ed7d-f292-483a-b6ee-e0060ca982ea",
   "metadata": {
    "tags": []
   },
   "outputs": [
    {
     "name": "stdout",
     "output_type": "stream",
     "text": [
      "use random seed: 666\n",
      "Shape of Raw data\n",
      "Dataset 0: (5081, 1000)\n",
      "Dataset 1: (5081, 999)\n",
      "---------------------------------\n",
      "Find correspondence between Dataset 1 and Dataset 2\n",
      "use device: cuda:0\n",
      "epoch:[100/2000] err:344.2251 alpha:72.9209\n",
      "epoch:[200/2000] err:46.1192 alpha:9.7699\n",
      "epoch:[300/2000] err:6.1791 alpha:1.3090\n",
      "epoch:[400/2000] err:0.8279 alpha:0.1754\n",
      "epoch:[500/2000] err:0.1109 alpha:0.0235\n",
      "epoch:[600/2000] err:0.0149 alpha:0.0031\n",
      "epoch:[700/2000] err:0.0020 alpha:0.0004\n",
      "epoch:[800/2000] err:0.0003 alpha:0.0001\n",
      "epoch:[900/2000] err:0.0000 alpha:0.0000\n",
      "epoch:[1000/2000] err:0.0000 alpha:0.0000\n",
      "epoch:[1100/2000] err:0.0000 alpha:0.0000\n",
      "epoch:[1200/2000] err:0.0000 alpha:0.0000\n",
      "epoch:[1300/2000] err:0.0000 alpha:0.0000\n",
      "epoch:[1400/2000] err:0.0000 alpha:0.0000\n",
      "epoch:[1500/2000] err:0.0000 alpha:0.0000\n",
      "epoch:[1600/2000] err:0.0000 alpha:0.0000\n",
      "epoch:[1700/2000] err:0.0000 alpha:0.0000\n",
      "epoch:[1800/2000] err:0.0000 alpha:0.0000\n",
      "epoch:[1900/2000] err:0.0000 alpha:0.0000\n",
      "epoch:[2000/2000] err:0.0000 alpha:0.0000\n",
      "Finished Matching!\n",
      "---------------------------------\n",
      "Begin finding the embedded space\n",
      "epoch:[10/100]: loss:6.895886, align_loss:0.125709\n",
      "epoch:[20/100]: loss:8.622740, align_loss:0.124480\n",
      "epoch:[30/100]: loss:8.570021, align_loss:0.135989\n",
      "epoch:[40/100]: loss:7.874331, align_loss:0.132075\n",
      "epoch:[50/100]: loss:8.292933, align_loss:0.141369\n",
      "epoch:[60/100]: loss:5.033200, align_loss:0.141306\n",
      "epoch:[70/100]: loss:6.817477, align_loss:0.146038\n",
      "epoch:[80/100]: loss:4.694238, align_loss:0.142386\n",
      "epoch:[90/100]: loss:4.855901, align_loss:0.151349\n",
      "epoch:[100/100]: loss:5.282027, align_loss:0.155622\n",
      "Done\n",
      "---------------------------------\n",
      "unionCom Done!\n",
      "time: 427.2513053417206 seconds\n",
      "1825\n"
     ]
    }
   ],
   "source": [
    "results_dir = \"/home/xcx/results/P0/2-Union-com/\"\n",
    "\n",
    "import datetime\n",
    "starttime = datetime.datetime.now()\n",
    "\n",
    "uc = UnionCom.UnionCom(epoch_pd = 2000)\n",
    "integrated_data = uc.fit_transform([counts_rna, counts_atac])\n",
    "z_rna = integrated_data[0]\n",
    "z_atac = integrated_data[1]\n",
    "\n",
    "#long running\n",
    "endtime = datetime.datetime.now()\n",
    "print((endtime-starttime).seconds)\n",
    "\n",
    "df = pd.DataFrame(data=z_rna)\n",
    "df.to_csv(os.path.join(\"/home/xcx/results/P0/2-Union-com/z_rna_2000.csv\"), index=False)\n",
    "df = pd.DataFrame(data=z_atac)\n",
    "df.to_csv(os.path.join(\"/home/xcx/results/P0/2-Union-com/z_atac_2000.csv\"), index=False)"
   ]
  },
  {
   "cell_type": "code",
   "execution_count": 10,
   "id": "b475ef6b-2047-4fa8-928b-5a168c7e335a",
   "metadata": {},
   "outputs": [],
   "source": [
    "df = pd.DataFrame(data=z_rna)\n",
    "df.to_csv(os.path.join(\"/home/xcx/results/P0/2-Union-com/z_rna.csv\"), index=False)\n",
    "df = pd.DataFrame(data=z_atac)\n",
    "df.to_csv(os.path.join(\"/home/xcx/results/P0/2-Union-com/z_atac.csv\"), index=False)"
   ]
  }
 ],
 "metadata": {
  "kernelspec": {
   "display_name": "unioncom",
   "language": "python",
   "name": "unioncom"
  },
  "language_info": {
   "codemirror_mode": {
    "name": "ipython",
    "version": 3
   },
   "file_extension": ".py",
   "mimetype": "text/x-python",
   "name": "python",
   "nbconvert_exporter": "python",
   "pygments_lexer": "ipython3",
   "version": "3.10.8"
  }
 },
 "nbformat": 4,
 "nbformat_minor": 5
}
