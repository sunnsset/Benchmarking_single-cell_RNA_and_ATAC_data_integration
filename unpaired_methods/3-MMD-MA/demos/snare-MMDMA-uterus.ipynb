{
 "cells": [
  {
   "cell_type": "code",
   "execution_count": 1,
   "id": "ebaac308-f0c4-44fb-8ee5-04eeda340224",
   "metadata": {},
   "outputs": [],
   "source": [
    "import argparse\n",
    "import os\n",
    "import pathlib\n",
    "import subprocess\n",
    "import sys\n",
    "import time\n",
    "\n",
    "import anndata\n",
    "import numpy as np\n",
    "import pandas as pd\n",
    "import scanpy as sc\n",
    "import torch\n",
    "# import yaml\n",
    "from sklearn.preprocessing import normalize"
   ]
  },
  {
   "cell_type": "code",
   "execution_count": 3,
   "id": "772528fd-cda1-42df-85e9-1b980840492c",
   "metadata": {},
   "outputs": [],
   "source": [
    "# RNA preprocessing\n",
    "counts_rna = sc.read(\"/data1/xcx/unpaired-data/uterus/RNA/highvar_counts_rna.mtx\", cache = True)\n",
    "\n",
    "sc.tl.pca(\n",
    "    counts_rna, n_comps=min(100, counts_rna.shape[0]),\n",
    "    use_highly_variable=False, svd_solver=\"auto\"\n",
    ")\n",
    "\n",
    "counts_rna = counts_rna.obsm[\"X_pca\"]\n",
    "# counts_rna = counts_rna.todense()\n",
    "\n",
    "label_rna = sc.read(\"/data1/xcx/unpaired-data/uterus/RNA/Uterus_Wang_2020_selected.h5ad\", cache = True).obs[\"cell_type\"].values\n",
    "label_atac = sc.read(\"/data1/xcx/unpaired-data/uterus/ATAC/uterus_Zhang2021/adata_anno_selected.h5ad\", cache = True).obs[\"celltype\"].values"
   ]
  },
  {
   "cell_type": "code",
   "execution_count": 4,
   "id": "823b8995-f535-4b2a-af23-493c115f7fc9",
   "metadata": {},
   "outputs": [],
   "source": [
    "counts_atac = sc.read(\"/data1/xcx/unpaired-data/uterus/ATAC/uterus_Zhang2021/highvar_counts_atac.mtx\", cache = True).X.toarray()\n",
    "\n",
    "from test_unioncom_acc import lsi_ATAC\n",
    "\n",
    "counts_atac = np.where(counts_atac < 1, 0, 1)\n",
    "counts_atac = lsi_ATAC(counts_atac, k = min(101, counts_atac.shape[0]))"
   ]
  },
  {
   "cell_type": "code",
   "execution_count": 5,
   "id": "602f03a0-a1c2-4849-a62d-2a2df94c90ff",
   "metadata": {},
   "outputs": [],
   "source": [
    "X = counts_rna\n",
    "Y = counts_atac\n",
    "\n",
    "X = normalize(X, norm=\"l2\")\n",
    "Y = normalize(Y, norm=\"l2\")"
   ]
  },
  {
   "cell_type": "code",
   "execution_count": 7,
   "id": "fcffcac0-8ebc-4cb9-b847-cec5c054a363",
   "metadata": {},
   "outputs": [],
   "source": [
    "output_dir = \"/home/xcx/results/uterus/3-MMD-MA/\"\n",
    "\n",
    "K1 = X @ X.T\n",
    "K2 = Y @ Y.T\n",
    "\n",
    "df = pd.DataFrame(data=K1)\n",
    "df.to_csv(os.path.join(\"/home/xcx/results/uterus/3-MMD-MA/K1.csv\"), index=False)\n",
    "df = pd.DataFrame(data=K2)\n",
    "df.to_csv(os.path.join(\"/home/xcx/results/uterus/3-MMD-MA/K2.csv\"), index=False)"
   ]
  },
  {
   "cell_type": "code",
   "execution_count": 8,
   "id": "e5dc4ddc-0ea1-4f40-8d30-ab21f5a7e1a8",
   "metadata": {},
   "outputs": [
    {
     "name": "stdout",
     "output_type": "stream",
     "text": [
      "(8237, 8237)\n",
      "(8314, 8314)\n"
     ]
    }
   ],
   "source": [
    "print(K1.shape)\n",
    "print(K2.shape)"
   ]
  },
  {
   "cell_type": "code",
   "execution_count": 31,
   "id": "5e0002cc-377a-4e5c-80e4-84b323cd765a",
   "metadata": {},
   "outputs": [
    {
     "name": "stdout",
     "output_type": "stream",
     "text": [
      "MMD-MA finished...\n"
     ]
    }
   ],
   "source": [
    "import datetime\n",
    "starttime = datetime.datetime.now()\n",
    "\n",
    "# # run in terminal\n",
    "# python /home/xcx/MYBenchmark-codes/3-MMD-MA/demos/manifoldAlignDistortionPen_mmd_multipleStarts_uterus.py /home/xcx/results/uterus/3-MMD-MA/K1.csv /home/xcx/results/uterus/3-MMD-MA/K2.csv --l1 1e-5 --l2 1e-5 --p 5 --bandwidth 0.5 --seed 50\n",
    "\n",
    "# subprocess.call([\n",
    "#     \"python\", \"/home/xcx/MYBenchmark-codes/3-MMD-MA/demos/manifoldAlignDistortionPen_mmd_multipleStarts.py\",\n",
    "#     output_dir + \"K1.npy\", output_dir + \"K2.npy\",\n",
    "#     --l1 \"1e-5\", --l2 \"1e-5\", --p \"5\", --bandwidth \"0.5\", --seed \"50\"\n",
    "# ])\n",
    "\n",
    "print(\"MMD-MA finished...\")\n",
    "\n",
    "#long running\n",
    "endtime = datetime.datetime.now()\n",
    "print((endtime-starttime).seconds)"
   ]
  },
  {
   "cell_type": "code",
   "execution_count": 9,
   "id": "9349a910-3086-4610-820c-d9525d58cbb8",
   "metadata": {},
   "outputs": [],
   "source": [
    "alpha = np.loadtxt(\"/home/xcx/MYBenchmark-codes/3-MMD-MA/demos/train_uterus/alpha_hat_50_10000.txt\")\n",
    "beta = np.loadtxt(\"/home/xcx/MYBenchmark-codes/3-MMD-MA/demos/train_uterus/beta_hat_50_10000.txt\")\n",
    "import pandas as pd\n",
    "K1 = pd.read_csv(\"/home/xcx/results/uterus/3-MMD-MA/K1.csv\", header=0, index_col=None).to_numpy()\n",
    "K2 = pd.read_csv(\"/home/xcx/results/uterus/3-MMD-MA/K2.csv\", header=0, index_col=None).to_numpy()\n",
    "\n",
    "rna_latent = K1 @ alpha\n",
    "atac_latent = K2 @ beta\n",
    " \n",
    "# #long running\n",
    "# endtime = datetime.datetime.now()\n",
    "# print((endtime-starttime).seconds)"
   ]
  },
  {
   "cell_type": "code",
   "execution_count": 10,
   "id": "4e8eea5c-f342-42e3-b9ec-bd0e96e567df",
   "metadata": {},
   "outputs": [],
   "source": [
    "df = pd.DataFrame(data=rna_latent)\n",
    "df.to_csv(os.path.join(\"/home/xcx/results/uterus/3-MMD-MA/z_rna.csv\"), index=False)\n",
    "df = pd.DataFrame(data=atac_latent)\n",
    "df.to_csv(os.path.join(\"/home/xcx/results/uterus/3-MMD-MA/z_atac.csv\"), index=False)"
   ]
  },
  {
   "cell_type": "code",
   "execution_count": null,
   "id": "fd303bcc-59a2-433d-aa0c-72fb814e863b",
   "metadata": {},
   "outputs": [],
   "source": []
  }
 ],
 "metadata": {
  "kernelspec": {
   "display_name": "scDART",
   "language": "python",
   "name": "scdart"
  },
  "language_info": {
   "codemirror_mode": {
    "name": "ipython",
    "version": 3
   },
   "file_extension": ".py",
   "mimetype": "text/x-python",
   "name": "python",
   "nbconvert_exporter": "python",
   "pygments_lexer": "ipython3",
   "version": "3.10.8"
  }
 },
 "nbformat": 4,
 "nbformat_minor": 5
}
