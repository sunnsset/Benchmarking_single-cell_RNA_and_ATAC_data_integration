{
 "cells": [
  {
   "cell_type": "markdown",
   "metadata": {
    "pycharm": {
     "name": "#%% md\n"
    }
   },
   "source": [
    "# Introduction to single-cell multi-view profiler (scMVP)\n",
    "In this introductory tutorial, we present the different tasks of a scMVP workflow\n",
    "1. Loading the multi-omics data\n",
    "2. Training the multi-view model\n",
    "3. Retrieving the common latent space and imputed multi-omics values\n",
    "4. Perform cell clustering and differential expression \n",
    "5. Visualize the common latent space and clustering with umap"
   ]
  },
  {
   "cell_type": "code",
   "execution_count": 18,
   "metadata": {
    "pycharm": {
     "is_executing": false,
     "name": "#%%\n"
    },
    "tags": []
   },
   "outputs": [],
   "source": [
    "%matplotlib inline\n",
    "\n",
    "import os\n",
    "import numpy as np\n",
    "import pandas as pd\n",
    "import matplotlib\n",
    "import matplotlib.pyplot as plt\n",
    "from scMVP.dataset import LoadData,GeneExpressionDataset, CellMeasurement\n",
    "from scMVP.models import VAE_Attention, Multi_VAE_Attention, VAE_Peak_SelfAttention\n",
    "from scMVP.inference import UnsupervisedTrainer\n",
    "from scMVP.inference import MultiPosterior, MultiTrainer\n",
    "import torch\n",
    "\n",
    "import scanpy as sc\n",
    "import anndata\n",
    "\n",
    "import scipy.io as sp_io\n",
    "from scipy.sparse import csr_matrix, issparse"
   ]
  },
  {
   "cell_type": "code",
   "execution_count": 2,
   "metadata": {},
   "outputs": [],
   "source": [
    "# If your PC do not have GPU, your can use multi threads to accelerate the training \n",
    "torch.set_num_threads(40) # do not use all CPU threads"
   ]
  },
  {
   "cell_type": "markdown",
   "metadata": {
    "pycharm": {
     "name": "#%% md\n"
    }
   },
   "source": [
    "## Step1: Loading data\n",
    "\n",
    " loading the sci-CAR cell line dataset described in Junyue Cao et al. (2018).\n",
    "\n",
    "* Junyue Cao, et al. \"Joint profiling of chromatin accessibility and gene \n",
    "expression in thousands of single cells.\" Science 361.6409 (2018): 1380-1385. \n",
    "<br>\n",
    "\n",
    "You can also downloaded processed input in **README.md.**"
   ]
  },
  {
   "cell_type": "code",
   "execution_count": 3,
   "metadata": {
    "tags": []
   },
   "outputs": [],
   "source": [
    "counts_atac = pd.read_csv(\"/home/xcx/MYBenchmark-datas/1469/counts_atac.csv\", index_col = 0).values\n",
    "\n",
    "# from test_unioncom_acc import lsi_ATAC\n",
    "\n",
    "# # counts_atac = np.where(counts_atac <1, 0, 1)\n",
    "# counts_atac = lsi_ATAC(counts_atac, k = min(101, counts_atac.shape[0]))\n",
    "\n",
    "# df = pd.DataFrame(data=counts_atac.todense().T)\n",
    "# df.to_csv(os.path.join(\"/home/xcx/MYBenchmark-codes/5-scMVP/mydata/1469/tfidf_counts_atac.csv\"), index=False, header=None)"
   ]
  },
  {
   "cell_type": "code",
   "execution_count": 4,
   "metadata": {
    "tags": []
   },
   "outputs": [],
   "source": [
    "counts_rna = pd.read_csv(\"/home/xcx/MYBenchmark-datas/1469/counts_rna.csv\", index_col = 0).values"
   ]
  },
  {
   "cell_type": "code",
   "execution_count": 5,
   "metadata": {},
   "outputs": [
    {
     "data": {
      "text/plain": [
       "(1469, 15857)"
      ]
     },
     "execution_count": 5,
     "metadata": {},
     "output_type": "execute_result"
    }
   ],
   "source": [
    "from test_unioncom_acc import lsi_ATAC\n",
    "\n",
    "# counts_atac = np.where(counts_atac <1, 0, 1)\n",
    "counts_atac_tfidf = lsi_ATAC(counts_atac, k = min(101, counts_atac.shape[0]))\n",
    "counts_atac_tfidf.shape"
   ]
  },
  {
   "cell_type": "code",
   "execution_count": 6,
   "metadata": {
    "tags": []
   },
   "outputs": [],
   "source": [
    "from scipy.sparse import csr_matrix\n",
    "from scipy.sparse import coo_matrix\n",
    "import scipy.io as sio\n",
    "\n",
    "raw_mtx_rna = csr_matrix(counts_rna.T)\n",
    "raw_mtx_rna = coo_matrix(raw_mtx_rna)\n",
    "sio.mmwrite(\"/home/xcx/MYBenchmark-codes/5-scMVP/mydata/1469/raw_counts_rna.mtx\", raw_mtx_rna)\n",
    "\n",
    "raw_mtx_rna = csr_matrix(counts_atac.T)\n",
    "raw_mtx_rna = coo_matrix(raw_mtx_rna)\n",
    "sio.mmwrite(\"/home/xcx/MYBenchmark-codes/5-scMVP/mydata/1469/tfidf_counts_atac.mtx\", raw_mtx_rna)"
   ]
  },
  {
   "cell_type": "code",
   "execution_count": 6,
   "metadata": {
    "pycharm": {
     "is_executing": false,
     "name": "#%%\n"
    },
    "scrolled": true
   },
   "outputs": [
    {
     "name": "stderr",
     "output_type": "stream",
     "text": [
      "[2023-08-11 14:24:32,153] INFO - scMVP.dataset.scMVP_dataloader | Preprocessing joint profiling dataset.\n",
      "[2023-08-11 14:24:32,692] INFO - scMVP.dataset.scMVP_dataloader | hereeee\n",
      "[2023-08-11 14:24:32,695] INFO - scMVP.dataset.scMVP_dataloader | 1111111111111\n",
      "[2023-08-11 14:24:32,741] INFO - scMVP.dataset.scMVP_dataloader | [[0 0 0 ... 0 0 0]\n",
      " [0 0 0 ... 0 0 0]\n",
      " [0 0 0 ... 0 0 0]\n",
      " ...\n",
      " [0 0 0 ... 0 0 0]\n",
      " [0 0 0 ... 0 0 0]\n",
      " [0 0 0 ... 0 0 0]]\n",
      "[2023-08-11 14:24:32,798] INFO - scMVP.dataset.scMVP_dataloader | <class 'numpy.ndarray'>\n",
      "[2023-08-11 14:24:32,799] INFO - scMVP.dataset.scMVP_dataloader | (1469, 10081)\n",
      "[2023-08-11 14:24:32,847] INFO - scMVP.dataset.dataset | Remapping batch_indices to [0,N]\n",
      "[2023-08-11 14:24:32,848] INFO - scMVP.dataset.dataset | Remapping labels to [0,N]\n",
      "[2023-08-11 14:24:32,891] INFO - scMVP.dataset.dataset | Computing the library size for the new data\n",
      "[2023-08-11 14:24:32,893] INFO - scMVP.dataset.dataset | Downsampled from 1469 to 1469 cells\n"
     ]
    }
   ],
   "source": [
    "input_path = \"/home/xcx/MYBenchmark-codes/5-scMVP/mydata/1469/\"\n",
    "output_path = \"/home/xcx/results/1469/5-scMVP/\"\n",
    "\n",
    "snare_p0_dataset = {\n",
    "                \"gene_expression\": \"raw_counts_rna.mtx\",\n",
    "                \"atac_expression\": \"tfidf_counts_atac.mtx\",\n",
    "                \"gene_names\": 'rna_features.txt',\n",
    "                \"gene_barcodes\": 'rna_barcodes.txt',\n",
    "                \"atac_names\": 'atac_features.txt',\n",
    "                \"atac_barcodes\": 'atac_barcodes.txt'\n",
    "                }\n",
    "dataset = LoadData(dataset=snare_p0_dataset,data_path=input_path,\n",
    "                       dense=False,gzipped=False, atac_threshold=0.001, file_separator = \",\",\n",
    "                       cell_threshold=1)"
   ]
  },
  {
   "cell_type": "markdown",
   "metadata": {
    "pycharm": {
     "name": "#%% md\n"
    }
   },
   "source": [
    "## Step2: train your scMVP model, and get trained output"
   ]
  },
  {
   "cell_type": "markdown",
   "metadata": {},
   "source": [
    "* __n_epochs__: Maximum number of epochs to train the model. If the likelihood change is small than a set threshold training will stop automatically. \n",
    "* __lr__: learning rate. Set to 0.001 here. \n",
    "* __use_batches__: If the value of true than batch information is used in the training. Here it is set to false because the cortex data only contains one batch. \n",
    "* __use_cuda__: Set to true to use CUDA (GPU required) \n",
    "* __n_centroids__: Set the number of cell types\n",
    "* __n_alfa__: Set the weight of KL loss"
   ]
  },
  {
   "cell_type": "code",
   "execution_count": 7,
   "metadata": {
    "pycharm": {
     "is_executing": false,
     "name": "#%%\n"
    },
    "tags": []
   },
   "outputs": [
    {
     "name": "stdout",
     "output_type": "stream",
     "text": [
      "0\n"
     ]
    }
   ],
   "source": [
    "n_epochs = 10\n",
    "lr = 1e-3\n",
    "use_batches = False\n",
    "use_cuda = True # False if using CPU\n",
    "n_centroids = 5 \n",
    "n_alfa = 1.0\n",
    "\n",
    "import datetime\n",
    "starttime = datetime.datetime.now()\n",
    "\n",
    "multi_vae = Multi_VAE_Attention(dataset.nb_genes, len(dataset.atac_names), n_batch=0, n_latent=10, n_centroids=n_centroids, n_alfa = n_alfa, mode=\"mm-vae\") # should provide ATAC num, alfa, mode and loss type\n",
    "trainer = MultiTrainer(\n",
    "    multi_vae,\n",
    "    dataset,\n",
    "    train_size=0.9,\n",
    "    use_cuda=use_cuda,\n",
    "    frequency=5,\n",
    ")\n",
    "\n",
    "if os.path.exists(\"{}/multi_vae_traine.pkl\".format(output_path)):\n",
    "    trainer.model.load_state_dict(torch.load(\"{}/multi_vae_trainer.pkl\".format(output_path)))\n",
    "else:\n",
    "    # around 1-3 min on 1080Ti\n",
    "    trainer.train(n_epochs=n_epochs, lr=lr)\n",
    "    torch.save(trainer.model.state_dict(), '%s/multi_vae_trainer.pkl' % output_path)\n",
    "\n",
    "#long running\n",
    "endtime = datetime.datetime.now()\n",
    "print((endtime-starttime).seconds)"
   ]
  },
  {
   "cell_type": "code",
   "execution_count": 6,
   "metadata": {},
   "outputs": [
    {
     "name": "stdout",
     "output_type": "stream",
     "text": [
      "0\n"
     ]
    }
   ],
   "source": [
    "import datetime\n",
    "starttime = datetime.datetime.now()\n",
    "\n",
    "# create posterior from trained model\n",
    "full = trainer.create_posterior(trainer.model, dataset, indices=np.arange(len(dataset)),type_class=MultiPosterior)\n",
    "latent, latent_rna, latent_atac, cluster_gamma, cluster_index, batch_indices, labels = full.sequential().get_latent()\n",
    "batch_indices = batch_indices.ravel()\n",
    "imputed_values = full.sequential().imputation()\n",
    "\n",
    "#long running\n",
    "endtime = datetime.datetime.now()\n",
    "print((endtime-starttime).seconds)"
   ]
  },
  {
   "cell_type": "code",
   "execution_count": 7,
   "metadata": {},
   "outputs": [],
   "source": [
    "df = pd.DataFrame(data=latent)\n",
    "df.to_csv(os.path.join(\"/home/xcx/results/1469/5-scMVP/1469_latent.csv\"), index=False)\n",
    "df = pd.DataFrame(data=latent_rna)\n",
    "df.to_csv(os.path.join(\"/home/xcx/results/1469/5-scMVP/1469_z_rna.csv\"), index=False)\n",
    "df = pd.DataFrame(data=latent_atac)\n",
    "df.to_csv(os.path.join(\"/home/xcx/results/1469/5-scMVP/1469_z_atac.csv\"), index=False)"
   ]
  },
  {
   "cell_type": "code",
   "execution_count": 8,
   "metadata": {},
   "outputs": [],
   "source": [
    "latent_rna = pd.read_csv(\"/home/xcx/results/1469/5-scMVP/1469_z_rna.csv\", index_col=None).values\n",
    "latent_atac = pd.read_csv(\"/home/xcx/results/1469/5-scMVP/1469_z_atac.csv\", index_col=None).values\n",
    "latent = pd.read_csv(\"/home/xcx/results/1469/5-scMVP/1469_latent.csv\", index_col=None).values"
   ]
  },
  {
   "cell_type": "code",
   "execution_count": 11,
   "metadata": {},
   "outputs": [],
   "source": [
    "# UMAP visulization\n",
    "matplotlib.use('TkAgg')\n",
    "prior_adata = anndata.AnnData(X=latent, dtype=latent.dtype)\n",
    "cell_embeddings = pd.read_csv(\"/home/xcx/SNARE-GSE126074/1469/anno.txt\", header = None)\n",
    "\n",
    "prior_adata.obs['cell_type'] = np.array(cell_embeddings)\n",
    "prior_adata.obsm[\"X_multi_vi\"] = latent\n",
    "\n",
    "# louvain cluster\n",
    "sc.pp.neighbors(prior_adata, use_rep=\"X_multi_vi\", n_neighbors=30)\n",
    "sc.tl.umap(prior_adata, min_dist=0.3)\n",
    "sc.tl.louvain(prior_adata)\n",
    "sc.pl.umap(prior_adata, color=['louvain'])\n",
    "plt.show()\n",
    "\n",
    "# origin cell label\n",
    "sc.pl.umap(prior_adata, color=['cell_type'])\n",
    "plt.show()\n",
    "\n",
    "# Kmeans cluster\n",
    "from sklearn.cluster import KMeans\n",
    "latent_code = prior_adata.obsm[\"X_multi_vi\"]\n",
    "\n",
    "kmeans = KMeans(n_clusters=3, random_state=0).fit(latent_code) \n",
    "prior_adata.obs['kmeans'] = kmeans.labels_.astype(str)\n",
    "sc.pl.umap(prior_adata, color=['kmeans'])\n",
    "plt.show()"
   ]
  },
  {
   "cell_type": "markdown",
   "metadata": {},
   "source": [
    "## (Optional) Pre-training\n",
    "- For large and complex realistic joint profiling dataset like SHARE-seq skin dataset, we recommend to perform pre-training before scMVP training.\n",
    "\n",
    "- We next give a demo for pretraining of scRNA and scATAC, and then perform scMVP training."
   ]
  },
  {
   "cell_type": "markdown",
   "metadata": {},
   "source": [
    "### Step1: Construct separate dataset obeject"
   ]
  },
  {
   "cell_type": "code",
   "execution_count": 7,
   "metadata": {
    "pycharm": {
     "is_executing": false,
     "name": "#%%\n"
    }
   },
   "outputs": [
    {
     "name": "stderr",
     "output_type": "stream",
     "text": [
      "[2023-08-11 14:24:46,916] INFO - scMVP.dataset.dataset | Remapping batch_indices to [0,N]\n",
      "[2023-08-11 14:24:46,918] INFO - scMVP.dataset.dataset | Remapping labels to [0,N]\n",
      "[2023-08-11 14:24:46,922] INFO - scMVP.dataset.dataset | Remapping batch_indices to [0,N]\n",
      "[2023-08-11 14:24:46,923] INFO - scMVP.dataset.dataset | Remapping labels to [0,N]\n"
     ]
    },
    {
     "name": "stdout",
     "output_type": "stream",
     "text": [
      "GeneExpressionDataset object with n_cells x nb_genes = 1469 x 10081\n",
      "    gene_attribute_names: 'gene_names'\n",
      "    cell_attribute_names: 'barcodes', 'labels', 'local_means', 'batch_indices', 'local_vars'\n",
      "    cell_categorical_attribute_names: 'batch_indices', 'labels'\n",
      "GeneExpressionDataset object with n_cells x nb_genes = 1469 x 933\n",
      "    gene_attribute_names: 'gene_names'\n",
      "    cell_attribute_names: 'barcodes', 'labels', 'local_means', 'batch_indices', 'atac_expression', 'local_vars'\n",
      "    cell_categorical_attribute_names: 'batch_indices', 'labels'\n",
      "    cell_measurements_columns: {'atac_expression': 'atac_names'}\n",
      "0\n"
     ]
    }
   ],
   "source": [
    "# ATAC pretraining\n",
    "import datetime\n",
    "starttime = datetime.datetime.now()\n",
    "\n",
    "atac_dataset = GeneExpressionDataset()\n",
    "cell_attributes_dict = {\n",
    "    \"barcodes\": dataset.barcodes\n",
    "    }\n",
    "atac_dataset.populate_from_data(\n",
    "    X=dataset.atac_expression, # notice the normalization\n",
    "    batch_indices=None,\n",
    "    gene_names=dataset.atac_names,\n",
    "    cell_attributes_dict=cell_attributes_dict,\n",
    "    Ys=[],\n",
    ")\n",
    "rna_dataset = GeneExpressionDataset()\n",
    "Ys = []\n",
    "measurement = CellMeasurement(\n",
    "        name=\"atac_expression\",\n",
    "        data=atac_dataset.X,\n",
    "        columns_attr_name=\"atac_names\",\n",
    "        columns=atac_dataset.gene_names,\n",
    "    )\n",
    "Ys.append(measurement)\n",
    "cell_attributes_dict = {\n",
    "    \"barcodes\": dataset.barcodes\n",
    "    }\n",
    "rna_dataset.populate_from_data(\n",
    "    X=dataset.X,\n",
    "    batch_indices=None,\n",
    "    gene_names=dataset.gene_names,\n",
    "    cell_attributes_dict=cell_attributes_dict,\n",
    "    Ys=Ys,\n",
    ")\n",
    "\n",
    "print(atac_dataset)\n",
    "print(rna_dataset)\n",
    "\n",
    "#long running\n",
    "endtime = datetime.datetime.now()\n",
    "print((endtime-starttime).seconds)"
   ]
  },
  {
   "cell_type": "markdown",
   "metadata": {},
   "source": [
    "### Step2: Pretrain and visualize ATAC dataset\n",
    "(approximate 1min on 1080Ti)"
   ]
  },
  {
   "cell_type": "code",
   "execution_count": 8,
   "metadata": {
    "tags": []
   },
   "outputs": [
    {
     "name": "stdout",
     "output_type": "stream",
     "text": [
      "1\n"
     ]
    }
   ],
   "source": [
    "# ATAC pretraining\n",
    "import datetime\n",
    "starttime = datetime.datetime.now()\n",
    "\n",
    "n_epochs = 10\n",
    "lr = 1e-3\n",
    "use_batches = False\n",
    "use_cuda = True # False if using CPU\n",
    "n_centroids = 5 \n",
    "n_alfa = 1.0\n",
    "\n",
    "pre_atac_vae = VAE_Peak_SelfAttention(atac_dataset.nb_genes, n_latent=20,n_batch=0, n_layers=1, log_variational=True, reconstruction_loss=\"nb\")\n",
    "pre_atac_trainer = UnsupervisedTrainer(\n",
    "    pre_atac_vae,\n",
    "    atac_dataset,\n",
    "    train_size=0.9,\n",
    "    use_cuda=use_cuda,\n",
    "    frequency=5,\n",
    ")\n",
    "\n",
    "if os.path.isfile('%s/pre_atac_trainer.pkl' % output_path):\n",
    "    pre_atac_trainer.model.load_state_dict(torch.load('%s/pre_atac_trainer.pkl' % output_path))\n",
    "    pre_atac_trainer.model.eval()\n",
    "else:\n",
    "    pre_atac_trainer.train(n_epochs=3, lr=lr)\n",
    "    torch.save(pre_atac_trainer.model.state_dict(), '%s/pre_atac_trainer.pkl' % output_path)\n",
    "    pre_atac_trainer.model.eval()\n",
    "\n",
    "#long running\n",
    "endtime = datetime.datetime.now()\n",
    "print((endtime-starttime).seconds)"
   ]
  },
  {
   "cell_type": "code",
   "execution_count": 9,
   "metadata": {},
   "outputs": [
    {
     "name": "stdout",
     "output_type": "stream",
     "text": [
      "22\n"
     ]
    }
   ],
   "source": [
    "# ATAC pretrainer_posterior:\n",
    "import datetime\n",
    "starttime = datetime.datetime.now()\n",
    "\n",
    "full = pre_atac_trainer.create_posterior(pre_atac_trainer.model, atac_dataset, indices=np.arange(len(atac_dataset)))\n",
    "latent, batch_indices, labels = full.sequential().get_latent()\n",
    "batch_indices = batch_indices.ravel()\n",
    "prior_adata = anndata.AnnData(X=atac_dataset.X)\n",
    "prior_adata.obsm[\"X_multi_vi\"] = latent\n",
    "prior_adata.obs['cell_type'] = torch.tensor(labels.reshape(-1,1))\n",
    "sc.pp.neighbors(prior_adata, use_rep=\"X_multi_vi\", n_neighbors=30)\n",
    "sc.tl.umap(prior_adata, min_dist=0.3)\n",
    "\n",
    "sc.tl.louvain(prior_adata)\n",
    "sc.pl.umap(prior_adata, color=['louvain'])\n",
    "plt.show()\n",
    "\n",
    "#long running\n",
    "endtime = datetime.datetime.now()\n",
    "print((endtime-starttime).seconds)"
   ]
  },
  {
   "cell_type": "markdown",
   "metadata": {},
   "source": [
    "### Step3: Perform similar pretraining for scRNA dataset\n",
    "(less than 1min)"
   ]
  },
  {
   "cell_type": "code",
   "execution_count": 10,
   "metadata": {
    "tags": []
   },
   "outputs": [
    {
     "name": "stdout",
     "output_type": "stream",
     "text": [
      "0\n"
     ]
    }
   ],
   "source": [
    "# RNA embedding\n",
    "import datetime\n",
    "starttime = datetime.datetime.now()\n",
    "\n",
    "pre_vae = VAE_Attention(rna_dataset.nb_genes, n_latent=20,n_batch=0, n_layers=1, log_variational=True, reconstruction_loss=\"nb\")\n",
    "pre_trainer = UnsupervisedTrainer(\n",
    "    pre_vae,\n",
    "    rna_dataset,\n",
    "    train_size=0.9,\n",
    "    use_cuda=True,\n",
    "    frequency=5,\n",
    ")\n",
    "\n",
    "\n",
    "if os.path.isfile('%s/pre_trainer.pkl' % output_path):\n",
    "    pre_trainer.model.load_state_dict(torch.load('%s/pre_trainer.pkl' % output_path))\n",
    "    pre_trainer.model.eval()\n",
    "\n",
    "else:\n",
    "    pre_trainer.train(n_epochs=10, lr=lr)\n",
    "    torch.save(pre_trainer.model.state_dict(), '%s/pre_trainer.pkl' % output_path)\n",
    "    pre_trainer.model.eval()\n",
    "\n",
    "#long running\n",
    "endtime = datetime.datetime.now()\n",
    "print((endtime-starttime).seconds)"
   ]
  },
  {
   "cell_type": "code",
   "execution_count": 11,
   "metadata": {},
   "outputs": [
    {
     "name": "stdout",
     "output_type": "stream",
     "text": [
      "4\n"
     ]
    }
   ],
   "source": [
    "# RNA pretrainer_posterior:\n",
    "import datetime\n",
    "starttime = datetime.datetime.now()\n",
    "\n",
    "full = pre_trainer.create_posterior(pre_trainer.model, rna_dataset, indices=np.arange(len(rna_dataset)))\n",
    "latent, batch_indices, labels = full.sequential().get_latent()\n",
    "batch_indices = batch_indices.ravel()\n",
    "imputed_values = full.sequential().imputation()\n",
    "\n",
    "# UMAP visulization\n",
    "prior_adata = anndata.AnnData(X=rna_dataset.X)\n",
    "prior_adata.obsm[\"X_multi_vi\"] = latent\n",
    "prior_adata.obs['cell_type'] = torch.tensor(labels.reshape(-1,1))\n",
    "sc.pp.neighbors(prior_adata, use_rep=\"X_multi_vi\", n_neighbors=30)\n",
    "sc.tl.umap(prior_adata, min_dist=0.3)\n",
    "\n",
    "sc.tl.louvain(prior_adata)\n",
    "sc.pl.umap(prior_adata, color=['louvain'])\n",
    "plt.show()\n",
    "\n",
    "#long running\n",
    "endtime = datetime.datetime.now()\n",
    "print((endtime-starttime).seconds)"
   ]
  },
  {
   "cell_type": "markdown",
   "metadata": {},
   "source": [
    "### Step4:  Perform scMVP training with two pretrained models\n",
    "(few minutes)"
   ]
  },
  {
   "cell_type": "code",
   "execution_count": 12,
   "metadata": {
    "tags": []
   },
   "outputs": [
    {
     "name": "stdout",
     "output_type": "stream",
     "text": [
      "0\n"
     ]
    }
   ],
   "source": [
    "# get n_centroids from scRNA data\n",
    "n_centroids=len(np.unique(prior_adata.obs['louvain'].tolist()))\n",
    "\n",
    "import datetime\n",
    "starttime = datetime.datetime.now()\n",
    "\n",
    "\n",
    "multi_vae = Multi_VAE_Attention(rna_dataset.nb_genes, len(rna_dataset.atac_names), n_batch=0, n_latent=20, n_centroids=n_centroids, n_alfa = n_alfa, mode=\"mm-vae\") # should provide ATAC num, alfa, mode and loss type\n",
    "trainer = MultiTrainer(\n",
    "    multi_vae,\n",
    "    rna_dataset,\n",
    "    train_size=0.9,\n",
    "    use_cuda=use_cuda,\n",
    "    frequency=5,\n",
    ")\n",
    "\n",
    "\n",
    "if os.path.isfile('%s/multi_vae_trainer.pkl' % output_path):\n",
    "    trainer.model.load_state_dict(torch.load('%s/multi_vae_trainer.pkl' % output_path))\n",
    "    trainer.model.eval()\n",
    "else:\n",
    "    pre_trainer = UnsupervisedTrainer(\n",
    "        pre_vae,\n",
    "        rna_dataset,\n",
    "        train_size=0.9,\n",
    "        use_cuda=use_cuda,\n",
    "        frequency=5,\n",
    "    )\n",
    "    pre_trainer.model.load_state_dict(torch.load('%s/pre_trainer.pkl' % output_path))\n",
    "\n",
    "    pre_atac_trainer = UnsupervisedTrainer(\n",
    "        pre_atac_vae,\n",
    "        atac_dataset,\n",
    "        train_size=0.9,\n",
    "        use_cuda=use_cuda,\n",
    "        frequency=5,\n",
    "    )\n",
    "    pre_atac_trainer.model.load_state_dict(torch.load('%s/pre_atac_trainer.pkl' % output_path))\n",
    "\n",
    "    n_centroids=len(np.unique(prior_adata.obs['louvain'].tolist()))\n",
    "\n",
    "    # joint RNA and ATAC embedding\n",
    "    trainer.model.init_gmm_params_with_louvain(latent,np.array(prior_adata.obs['louvain'].tolist()).astype(int))\n",
    "\n",
    "    trainer.model.RNA_encoder.load_state_dict(pre_trainer.model.z_encoder.state_dict())\n",
    "    for param in trainer.model.RNA_encoder.parameters():\n",
    "        param.requires_grad = True\n",
    "    trainer.model.ATAC_encoder.load_state_dict(pre_atac_trainer.model.z_encoder.state_dict())\n",
    "    for param in trainer.model.ATAC_encoder.parameters():\n",
    "        param.requires_grad = True\n",
    "    trainer.train(n_epochs=15, lr=lr)\n",
    "    torch.save(trainer.model.state_dict(), '%s/multi_vae_trainer.pkl' % output_path)\n",
    "    trainer.model.eval()\n",
    "    \n",
    "#long running\n",
    "endtime = datetime.datetime.now()\n",
    "print((endtime-starttime).seconds)"
   ]
  },
  {
   "cell_type": "code",
   "execution_count": null,
   "metadata": {},
   "outputs": [],
   "source": [
    "#### Then same with direct scMVP training"
   ]
  },
  {
   "cell_type": "code",
   "execution_count": 13,
   "metadata": {},
   "outputs": [
    {
     "name": "stdout",
     "output_type": "stream",
     "text": [
      "1\n"
     ]
    }
   ],
   "source": [
    "import datetime\n",
    "starttime = datetime.datetime.now()\n",
    "\n",
    "# create posterior from trained model\n",
    "full = trainer.create_posterior(trainer.model, dataset, indices=np.arange(len(dataset)),type_class=MultiPosterior)\n",
    "latent, latent_rna, latent_atac, cluster_gamma, cluster_index, batch_indices, labels = full.sequential().get_latent()\n",
    "batch_indices = batch_indices.ravel()\n",
    "imputed_values = full.sequential().imputation()\n",
    "\n",
    "#long running\n",
    "endtime = datetime.datetime.now()\n",
    "print((endtime-starttime).seconds)"
   ]
  },
  {
   "cell_type": "code",
   "execution_count": null,
   "metadata": {},
   "outputs": [],
   "source": []
  }
 ],
 "metadata": {
  "kernelspec": {
   "display_name": "scMVP",
   "language": "python",
   "name": "scmvp"
  },
  "language_info": {
   "codemirror_mode": {
    "name": "ipython",
    "version": 3
   },
   "file_extension": ".py",
   "mimetype": "text/x-python",
   "name": "python",
   "nbconvert_exporter": "python",
   "pygments_lexer": "ipython3",
   "version": "3.7.12"
  },
  "pycharm": {
   "stem_cell": {
    "cell_type": "raw",
    "metadata": {
     "collapsed": false
    },
    "source": []
   }
  }
 },
 "nbformat": 4,
 "nbformat_minor": 4
}
